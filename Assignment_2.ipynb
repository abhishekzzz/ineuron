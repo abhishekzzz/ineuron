{
 "cells": [
  {
   "cell_type": "markdown",
   "id": "a47a6e88",
   "metadata": {},
   "source": [
    "1.What are the two values of the Boolean data type? How do you write them?"
   ]
  },
  {
   "cell_type": "markdown",
   "id": "3d93d654",
   "metadata": {},
   "source": [
    "Answer 1. Boolean data type has two values. True and False"
   ]
  },
  {
   "cell_type": "markdown",
   "id": "906031e7",
   "metadata": {},
   "source": [
    "2.What are the three different types of Boolean operators?"
   ]
  },
  {
   "cell_type": "markdown",
   "id": "40b7f601",
   "metadata": {},
   "source": [
    "Answer 2.\n",
    "Three different type of Boolean operators are:-\n",
    "i) AND\n",
    "ii) OR\n",
    "ii) NOT"
   ]
  },
  {
   "cell_type": "markdown",
   "id": "9ed1ebc9",
   "metadata": {},
   "source": [
    "3.Make a list of each Boolean operator&#39;s truth tables (i.e. every possible combination of Boolean\n",
    "values for the operator and what it evaluate)."
   ]
  },
  {
   "cell_type": "markdown",
   "id": "238329a8",
   "metadata": {},
   "source": [
    "\n",
    "Answer 3.\n",
    "\n",
    "A   B  AND|OR\n",
    "0 | 0 | 0 |0 \n",
    "0 | 1 | 0 |1\n",
    "1 | 0 | 0 |1\n",
    "1 | 1 | 1 |1\n",
    "\n",
    "X |NOT\n",
    "0 | 1\n",
    "1 | 0"
   ]
  },
  {
   "cell_type": "markdown",
   "id": "1f85aaa6",
   "metadata": {},
   "source": [
    "4.What are the values of the following expressions?"
   ]
  },
  {
   "cell_type": "markdown",
   "id": "ef60a4c7",
   "metadata": {},
   "source": [
    "i) (5 > 4) and (3 == 5)\n",
    "Answer - False"
   ]
  },
  {
   "cell_type": "markdown",
   "id": "b2366a9c",
   "metadata": {},
   "source": [
    "ii) not (5 > 4) \n",
    "Answer - False"
   ]
  },
  {
   "cell_type": "markdown",
   "id": "28fdde37",
   "metadata": {},
   "source": [
    "iii) (5 > 4) or (3 == 5)\n",
    "Answer - True"
   ]
  },
  {
   "cell_type": "markdown",
   "id": "b1dea4e4",
   "metadata": {},
   "source": [
    "iv) not ((5 > 4) or (3 == 5))\n",
    "Answer - False"
   ]
  },
  {
   "cell_type": "markdown",
   "id": "ab92386a",
   "metadata": {},
   "source": [
    "v) (True and True) and (True == False)\n",
    "Answer - False"
   ]
  },
  {
   "cell_type": "markdown",
   "id": "f91e32ec",
   "metadata": {},
   "source": [
    "vi) (not False) or (not True)\n",
    "Answer - True"
   ]
  },
  {
   "cell_type": "markdown",
   "id": "8b420b35",
   "metadata": {},
   "source": [
    "5.What are the six comparison operators?"
   ]
  },
  {
   "cell_type": "markdown",
   "id": "af42a4ef",
   "metadata": {},
   "source": [
    "Answer 5. \n",
    "a) ==\n",
    "b) !=\n",
    "c) >=\n",
    "d) <=\n",
    "e) >\n",
    "f) <"
   ]
  },
  {
   "cell_type": "markdown",
   "id": "73e8fb2e",
   "metadata": {},
   "source": [
    "6.How do you tell the difference between the equal to and assignment operators? Describe a\n",
    "condition and when you would use one."
   ]
  },
  {
   "cell_type": "markdown",
   "id": "4bb97789",
   "metadata": {},
   "source": [
    "Answer 6 \n",
    "Assignment operator is used to assign values while equal to is used to compare the values if they are true or false\n",
    "\n",
    "for example:\n",
    "a = 10 \n",
    "assigning a equal to 10\n",
    "\n",
    "if we use a == 10\n",
    "we are checking if value of a is equal to 10 "
   ]
  },
  {
   "cell_type": "markdown",
   "id": "8f5f2d14",
   "metadata": {},
   "source": [
    "7. Identify the three blocks in this code:\n",
    "spam = 0\n",
    "if spam == 10:\n",
    "print(\"eggs\")\n",
    "if spam > 5:\n",
    "print(\"bacon\")\n",
    "else:\n",
    "print(\"ham\")\n",
    "print(\"spam\")\n",
    "print(\"spam\")"
   ]
  },
  {
   "cell_type": "code",
   "execution_count": 5,
   "id": "262b9faf",
   "metadata": {
    "ExecuteTime": {
     "end_time": "2023-04-03T18:12:57.259338Z",
     "start_time": "2023-04-03T18:12:57.250107Z"
    },
    "code_folding": []
   },
   "outputs": [
    {
     "name": "stdout",
     "output_type": "stream",
     "text": [
      "ham\n",
      "spam\n",
      "spam\n"
     ]
    }
   ],
   "source": [
    "spam = 0\n",
    "if spam == 10:\n",
    "    print(\"eggs\")\n",
    "if spam > 5:\n",
    "    print(\"bacon\")\n",
    "else:\n",
    "    print(\"ham\")\n",
    "print(\"spam\")\n",
    "print(\"spam\")"
   ]
  },
  {
   "cell_type": "markdown",
   "id": "023f4ce1",
   "metadata": {
    "ExecuteTime": {
     "end_time": "2023-04-03T18:10:55.984960Z",
     "start_time": "2023-04-03T18:10:55.940996Z"
    }
   },
   "source": [
    "blocks - everything inside the if-else statements\n",
    "three block are\n",
    "print('eggs')\n",
    "print('bacon')\n",
    "print('ham')"
   ]
  },
  {
   "cell_type": "markdown",
   "id": "e1b5bb84",
   "metadata": {},
   "source": [
    "8.Write code that prints Hello if 1 is stored in spam, prints Howdy if 2 is stored in spam, and prints\n",
    "Greetings! if anything else is stored in spam."
   ]
  },
  {
   "cell_type": "code",
   "execution_count": 13,
   "id": "ee521ef5",
   "metadata": {
    "ExecuteTime": {
     "end_time": "2023-04-03T18:40:43.029063Z",
     "start_time": "2023-04-03T18:40:40.910608Z"
    }
   },
   "outputs": [
    {
     "name": "stdout",
     "output_type": "stream",
     "text": [
      "3\n",
      "Greetings!\n"
     ]
    }
   ],
   "source": [
    "spam = int(input())\n",
    "\n",
    "if spam == 1:\n",
    "    print('Hello')\n",
    "elif spam == 2:\n",
    "    print('Howdy')\n",
    "else:\n",
    "    print('Greetings!')"
   ]
  },
  {
   "cell_type": "markdown",
   "id": "f2bcb41a",
   "metadata": {},
   "source": [
    "9.If your programme is stuck in an endless loop, what keys you’ll press?"
   ]
  },
  {
   "cell_type": "markdown",
   "id": "4de8668d",
   "metadata": {},
   "source": [
    "Answer 9 \n",
    "Ctrl + C"
   ]
  },
  {
   "cell_type": "markdown",
   "id": "90b6ee1e",
   "metadata": {},
   "source": [
    "10.How can you tell the difference between break and continue?"
   ]
  },
  {
   "cell_type": "markdown",
   "id": "58032d20",
   "metadata": {},
   "source": [
    "Answer 10\n",
    "break - It is used to break entire process of the loop and come outside\n",
    "continue - it is used to stop current iteration of the loop "
   ]
  },
  {
   "cell_type": "markdown",
   "id": "8c049546",
   "metadata": {},
   "source": [
    "11.In a for loop, what is the difference between range(10), range(0, 10), and range(0, 10, 1)?"
   ]
  },
  {
   "cell_type": "markdown",
   "id": "1fa24e25",
   "metadata": {},
   "source": [
    "Answer 11\n",
    "In a for loop, there's no difference between range(10), range(0, 10), and range(0, 10, 1)"
   ]
  },
  {
   "cell_type": "markdown",
   "id": "2e603065",
   "metadata": {},
   "source": [
    "12.Write a short program that prints the numbers 1 to 10 using a for loop. Then write an equivalent\n",
    "program that prints the numbers 1 to 10 using a while loop."
   ]
  },
  {
   "cell_type": "code",
   "execution_count": 10,
   "id": "83a68fa2",
   "metadata": {
    "ExecuteTime": {
     "end_time": "2023-04-03T18:27:27.281874Z",
     "start_time": "2023-04-03T18:27:27.273597Z"
    }
   },
   "outputs": [
    {
     "name": "stdout",
     "output_type": "stream",
     "text": [
      "1\n",
      "2\n",
      "3\n",
      "4\n",
      "5\n",
      "6\n",
      "7\n",
      "8\n",
      "9\n",
      "10\n"
     ]
    }
   ],
   "source": [
    "n = 10\n",
    "\n",
    "for i in range(1,n+1):\n",
    "    print(i)"
   ]
  },
  {
   "cell_type": "code",
   "execution_count": 11,
   "id": "2ca97a96",
   "metadata": {
    "ExecuteTime": {
     "end_time": "2023-04-03T18:28:05.042591Z",
     "start_time": "2023-04-03T18:28:05.033813Z"
    }
   },
   "outputs": [
    {
     "name": "stdout",
     "output_type": "stream",
     "text": [
      "1\n",
      "2\n",
      "3\n",
      "4\n",
      "5\n",
      "6\n",
      "7\n",
      "8\n",
      "9\n",
      "10\n"
     ]
    }
   ],
   "source": [
    "n = 10\n",
    "i = 1\n",
    "while i < 11:\n",
    "    print(i)\n",
    "    i = i + 1"
   ]
  },
  {
   "cell_type": "markdown",
   "id": "a92bc526",
   "metadata": {},
   "source": [
    "13.If you had a function named bacon() inside a module named spam, how would you call it after\n",
    "importing spam?"
   ]
  },
  {
   "cell_type": "markdown",
   "id": "ca0f58b1",
   "metadata": {
    "ExecuteTime": {
     "end_time": "2023-04-03T18:28:42.539726Z",
     "start_time": "2023-04-03T18:28:42.523040Z"
    }
   },
   "source": [
    "Answer 13\n",
    "\n",
    "import spam\n",
    "\n",
    "spam.bacon()"
   ]
  },
  {
   "cell_type": "code",
   "execution_count": null,
   "id": "8742a1f8",
   "metadata": {},
   "outputs": [],
   "source": []
  }
 ],
 "metadata": {
  "kernelspec": {
   "display_name": "Python 3 (ipykernel)",
   "language": "python",
   "name": "python3"
  },
  "language_info": {
   "codemirror_mode": {
    "name": "ipython",
    "version": 3
   },
   "file_extension": ".py",
   "mimetype": "text/x-python",
   "name": "python",
   "nbconvert_exporter": "python",
   "pygments_lexer": "ipython3",
   "version": "3.9.13"
  }
 },
 "nbformat": 4,
 "nbformat_minor": 5
}
