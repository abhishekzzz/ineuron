{
 "cells": [
  {
   "cell_type": "markdown",
   "id": "026de932",
   "metadata": {},
   "source": [
    "### Answer 1"
   ]
  },
  {
   "cell_type": "markdown",
   "id": "8ad506da",
   "metadata": {},
   "source": [
    "Values: hello, -87.8, 6\n",
    "Expressions: *, -, /, +"
   ]
  },
  {
   "cell_type": "markdown",
   "id": "66b8129f",
   "metadata": {},
   "source": [
    "### Answer 2"
   ]
  },
  {
   "cell_type": "markdown",
   "id": "5cab4119",
   "metadata": {},
   "source": [
    "Variable are used to store data in program while Strings are the data used to fill up variables in the program"
   ]
  },
  {
   "cell_type": "markdown",
   "id": "e07c28df",
   "metadata": {},
   "source": [
    "### Answer 3"
   ]
  },
  {
   "cell_type": "markdown",
   "id": "3ae3be66",
   "metadata": {},
   "source": [
    "int - integer data type converts specific value into integer,\n",
    "float - float returns floating numbers when you pass blank or 0 it'll return 0.0,\n",
    "bool - bool represent two values True  or False."
   ]
  },
  {
   "cell_type": "markdown",
   "id": "70c4fce2",
   "metadata": {},
   "source": [
    "### Answer 4"
   ]
  },
  {
   "cell_type": "markdown",
   "id": "3e0a7a56",
   "metadata": {},
   "source": [
    "Expression is a combination of operators and operands that is interpreted to produce some other value."
   ]
  },
  {
   "cell_type": "markdown",
   "id": "84a21b8a",
   "metadata": {},
   "source": [
    "### Answer 5"
   ]
  },
  {
   "cell_type": "markdown",
   "id": "32e9ed33",
   "metadata": {},
   "source": [
    "Expression is a combination of values and functions that are combined and interpreted by the compiler to create a new value, Statement which is a standalone unit of execution and doesn't return anything."
   ]
  },
  {
   "cell_type": "markdown",
   "id": "5648e119",
   "metadata": {},
   "source": [
    "### Answer 6"
   ]
  },
  {
   "cell_type": "code",
   "execution_count": null,
   "id": "842000b9",
   "metadata": {},
   "outputs": [],
   "source": [
    "bacon = 10\n",
    "bacon + 1"
   ]
  },
  {
   "cell_type": "markdown",
   "id": "07b7039b",
   "metadata": {},
   "source": [
    "bacon contains 10"
   ]
  },
  {
   "cell_type": "markdown",
   "id": "03cdfae1",
   "metadata": {},
   "source": [
    "### Answer 7"
   ]
  },
  {
   "cell_type": "code",
   "execution_count": null,
   "id": "46699308",
   "metadata": {},
   "outputs": [],
   "source": [
    "\"spam\" + \"spamspam\"\n",
    "\"spam\" * 3"
   ]
  },
  {
   "cell_type": "markdown",
   "id": "95be83b8",
   "metadata": {},
   "source": [
    "both will be same \"spamspamspam\""
   ]
  },
  {
   "cell_type": "markdown",
   "id": "d75a7f65",
   "metadata": {},
   "source": [
    "### Answer 8"
   ]
  },
  {
   "cell_type": "markdown",
   "id": "f7abe64d",
   "metadata": {},
   "source": [
    "eggs is valid variable but 100 is not because variables can start with only lowercase, uppercase or _(uderscore sign)"
   ]
  },
  {
   "cell_type": "markdown",
   "id": "3b5e2eb1",
   "metadata": {},
   "source": [
    "### Answer 9"
   ]
  },
  {
   "cell_type": "markdown",
   "id": "007f046a",
   "metadata": {},
   "source": [
    " int() , float() , and str()"
   ]
  },
  {
   "cell_type": "markdown",
   "id": "07b5ccc2",
   "metadata": {},
   "source": [
    "### Answer 10"
   ]
  },
  {
   "cell_type": "code",
   "execution_count": null,
   "id": "8e25aad1",
   "metadata": {},
   "outputs": [],
   "source": [
    "\"I have eaten\" + 99 +\"burritos.\""
   ]
  },
  {
   "cell_type": "markdown",
   "id": "245cf2ec",
   "metadata": {},
   "source": [
    "We can't concatinate string with int that's why, to fix this we have to change 99 integer to string"
   ]
  },
  {
   "cell_type": "code",
   "execution_count": 13,
   "id": "ec0e4532",
   "metadata": {},
   "outputs": [
    {
     "data": {
      "text/plain": [
       "'I have eaten 99 burritos.'"
      ]
     },
     "execution_count": 13,
     "metadata": {},
     "output_type": "execute_result"
    }
   ],
   "source": [
    "\"I have eaten \" + \"99\" +\" burritos.\""
   ]
  }
 ],
 "metadata": {
  "kernelspec": {
   "display_name": "Python 3 (ipykernel)",
   "language": "python",
   "name": "python3"
  },
  "language_info": {
   "codemirror_mode": {
    "name": "ipython",
    "version": 3
   },
   "file_extension": ".py",
   "mimetype": "text/x-python",
   "name": "python",
   "nbconvert_exporter": "python",
   "pygments_lexer": "ipython3",
   "version": "3.9.12"
  }
 },
 "nbformat": 4,
 "nbformat_minor": 5
}
